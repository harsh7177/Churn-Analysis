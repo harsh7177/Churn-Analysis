{
 "cells": [
  {
   "cell_type": "code",
   "execution_count": 3,
   "id": "351f137d",
   "metadata": {
    "execution": {
     "iopub.execute_input": "2021-10-08T04:14:39.256813Z",
     "iopub.status.busy": "2021-10-08T04:14:39.256071Z",
     "iopub.status.idle": "2021-10-08T04:14:40.759591Z",
     "shell.execute_reply": "2021-10-08T04:14:40.759031Z",
     "shell.execute_reply.started": "2021-10-08T04:12:13.782444Z"
    },
    "papermill": {
     "duration": 1.53841,
     "end_time": "2021-10-08T04:14:40.759736",
     "exception": false,
     "start_time": "2021-10-08T04:14:39.221326",
     "status": "completed"
    },
    "tags": []
   },
   "outputs": [],
   "source": [
    "#Importing the Libraries\n",
    "import numpy as np\n",
    "import pandas as pd\n",
    "import datetime\n",
    "import matplotlib\n",
    "import matplotlib.pyplot as plt\n",
    "from matplotlib import colors\n",
    "import seaborn as sns\n",
    "from sklearn.preprocessing import LabelEncoder\n",
    "from sklearn.preprocessing import StandardScaler\n",
    "from sklearn.decomposition import PCA\n",
    "from sklearn.cluster import KMeans\n",
    "import matplotlib.pyplot as plt, numpy as np\n",
    "from mpl_toolkits.mplot3d import Axes3D\n",
    "from sklearn.cluster import AgglomerativeClustering\n",
    "from matplotlib.colors import ListedColormap\n",
    "from sklearn import metrics"
   ]
  },
  {
   "cell_type": "code",
   "execution_count": 4,
   "id": "7a6e8b5a",
   "metadata": {
    "execution": {
     "iopub.execute_input": "2021-10-08T04:14:40.879581Z",
     "iopub.status.busy": "2021-10-08T04:14:40.878909Z",
     "iopub.status.idle": "2021-10-08T04:14:40.932630Z",
     "shell.execute_reply": "2021-10-08T04:14:40.933049Z",
     "shell.execute_reply.started": "2021-10-08T04:12:15.114297Z"
    },
    "papermill": {
     "duration": 0.087752,
     "end_time": "2021-10-08T04:14:40.933340",
     "exception": false,
     "start_time": "2021-10-08T04:14:40.845588",
     "status": "completed"
    },
    "tags": []
   },
   "outputs": [
    {
     "name": "stdout",
     "output_type": "stream",
     "text": [
      "Number of datapoints: 2240\n"
     ]
    },
    {
     "data": {
      "text/html": [
       "<div>\n",
       "<style scoped>\n",
       "    .dataframe tbody tr th:only-of-type {\n",
       "        vertical-align: middle;\n",
       "    }\n",
       "\n",
       "    .dataframe tbody tr th {\n",
       "        vertical-align: top;\n",
       "    }\n",
       "\n",
       "    .dataframe thead th {\n",
       "        text-align: right;\n",
       "    }\n",
       "</style>\n",
       "<table border=\"1\" class=\"dataframe\">\n",
       "  <thead>\n",
       "    <tr style=\"text-align: right;\">\n",
       "      <th></th>\n",
       "      <th>ID</th>\n",
       "      <th>Year_Birth</th>\n",
       "      <th>Education</th>\n",
       "      <th>Marital_Status</th>\n",
       "      <th>Income</th>\n",
       "      <th>Kidhome</th>\n",
       "      <th>Teenhome</th>\n",
       "      <th>Dt_Customer</th>\n",
       "      <th>Recency</th>\n",
       "      <th>MntWines</th>\n",
       "      <th>...</th>\n",
       "      <th>NumWebVisitsMonth</th>\n",
       "      <th>AcceptedCmp3</th>\n",
       "      <th>AcceptedCmp4</th>\n",
       "      <th>AcceptedCmp5</th>\n",
       "      <th>AcceptedCmp1</th>\n",
       "      <th>AcceptedCmp2</th>\n",
       "      <th>Complain</th>\n",
       "      <th>Z_CostContact</th>\n",
       "      <th>Z_Revenue</th>\n",
       "      <th>Response</th>\n",
       "    </tr>\n",
       "  </thead>\n",
       "  <tbody>\n",
       "    <tr>\n",
       "      <th>0</th>\n",
       "      <td>5524</td>\n",
       "      <td>1957</td>\n",
       "      <td>Graduation</td>\n",
       "      <td>Single</td>\n",
       "      <td>58138.0</td>\n",
       "      <td>0</td>\n",
       "      <td>0</td>\n",
       "      <td>04-09-2012</td>\n",
       "      <td>58</td>\n",
       "      <td>635</td>\n",
       "      <td>...</td>\n",
       "      <td>7</td>\n",
       "      <td>0</td>\n",
       "      <td>0</td>\n",
       "      <td>0</td>\n",
       "      <td>0</td>\n",
       "      <td>0</td>\n",
       "      <td>0</td>\n",
       "      <td>3</td>\n",
       "      <td>11</td>\n",
       "      <td>1</td>\n",
       "    </tr>\n",
       "    <tr>\n",
       "      <th>1</th>\n",
       "      <td>2174</td>\n",
       "      <td>1954</td>\n",
       "      <td>Graduation</td>\n",
       "      <td>Single</td>\n",
       "      <td>46344.0</td>\n",
       "      <td>1</td>\n",
       "      <td>1</td>\n",
       "      <td>08-03-2014</td>\n",
       "      <td>38</td>\n",
       "      <td>11</td>\n",
       "      <td>...</td>\n",
       "      <td>5</td>\n",
       "      <td>0</td>\n",
       "      <td>0</td>\n",
       "      <td>0</td>\n",
       "      <td>0</td>\n",
       "      <td>0</td>\n",
       "      <td>0</td>\n",
       "      <td>3</td>\n",
       "      <td>11</td>\n",
       "      <td>0</td>\n",
       "    </tr>\n",
       "    <tr>\n",
       "      <th>2</th>\n",
       "      <td>4141</td>\n",
       "      <td>1965</td>\n",
       "      <td>Graduation</td>\n",
       "      <td>Together</td>\n",
       "      <td>71613.0</td>\n",
       "      <td>0</td>\n",
       "      <td>0</td>\n",
       "      <td>21-08-2013</td>\n",
       "      <td>26</td>\n",
       "      <td>426</td>\n",
       "      <td>...</td>\n",
       "      <td>4</td>\n",
       "      <td>0</td>\n",
       "      <td>0</td>\n",
       "      <td>0</td>\n",
       "      <td>0</td>\n",
       "      <td>0</td>\n",
       "      <td>0</td>\n",
       "      <td>3</td>\n",
       "      <td>11</td>\n",
       "      <td>0</td>\n",
       "    </tr>\n",
       "    <tr>\n",
       "      <th>3</th>\n",
       "      <td>6182</td>\n",
       "      <td>1984</td>\n",
       "      <td>Graduation</td>\n",
       "      <td>Together</td>\n",
       "      <td>26646.0</td>\n",
       "      <td>1</td>\n",
       "      <td>0</td>\n",
       "      <td>10-02-2014</td>\n",
       "      <td>26</td>\n",
       "      <td>11</td>\n",
       "      <td>...</td>\n",
       "      <td>6</td>\n",
       "      <td>0</td>\n",
       "      <td>0</td>\n",
       "      <td>0</td>\n",
       "      <td>0</td>\n",
       "      <td>0</td>\n",
       "      <td>0</td>\n",
       "      <td>3</td>\n",
       "      <td>11</td>\n",
       "      <td>0</td>\n",
       "    </tr>\n",
       "    <tr>\n",
       "      <th>4</th>\n",
       "      <td>5324</td>\n",
       "      <td>1981</td>\n",
       "      <td>PhD</td>\n",
       "      <td>Married</td>\n",
       "      <td>58293.0</td>\n",
       "      <td>1</td>\n",
       "      <td>0</td>\n",
       "      <td>19-01-2014</td>\n",
       "      <td>94</td>\n",
       "      <td>173</td>\n",
       "      <td>...</td>\n",
       "      <td>5</td>\n",
       "      <td>0</td>\n",
       "      <td>0</td>\n",
       "      <td>0</td>\n",
       "      <td>0</td>\n",
       "      <td>0</td>\n",
       "      <td>0</td>\n",
       "      <td>3</td>\n",
       "      <td>11</td>\n",
       "      <td>0</td>\n",
       "    </tr>\n",
       "  </tbody>\n",
       "</table>\n",
       "<p>5 rows × 29 columns</p>\n",
       "</div>"
      ],
      "text/plain": [
       "     ID  Year_Birth   Education Marital_Status   Income  Kidhome  Teenhome  \\\n",
       "0  5524        1957  Graduation         Single  58138.0        0         0   \n",
       "1  2174        1954  Graduation         Single  46344.0        1         1   \n",
       "2  4141        1965  Graduation       Together  71613.0        0         0   \n",
       "3  6182        1984  Graduation       Together  26646.0        1         0   \n",
       "4  5324        1981         PhD        Married  58293.0        1         0   \n",
       "\n",
       "  Dt_Customer  Recency  MntWines  ...  NumWebVisitsMonth  AcceptedCmp3  \\\n",
       "0  04-09-2012       58       635  ...                  7             0   \n",
       "1  08-03-2014       38        11  ...                  5             0   \n",
       "2  21-08-2013       26       426  ...                  4             0   \n",
       "3  10-02-2014       26        11  ...                  6             0   \n",
       "4  19-01-2014       94       173  ...                  5             0   \n",
       "\n",
       "   AcceptedCmp4  AcceptedCmp5  AcceptedCmp1  AcceptedCmp2  Complain  \\\n",
       "0             0             0             0             0         0   \n",
       "1             0             0             0             0         0   \n",
       "2             0             0             0             0         0   \n",
       "3             0             0             0             0         0   \n",
       "4             0             0             0             0         0   \n",
       "\n",
       "   Z_CostContact  Z_Revenue  Response  \n",
       "0              3         11         1  \n",
       "1              3         11         0  \n",
       "2              3         11         0  \n",
       "3              3         11         0  \n",
       "4              3         11         0  \n",
       "\n",
       "[5 rows x 29 columns]"
      ]
     },
     "execution_count": 4,
     "metadata": {},
     "output_type": "execute_result"
    }
   ],
   "source": [
    "#Loading the dataset\n",
    "data = pd.read_csv(\"marketing_campaign.csv\", sep=\"\\t\")\n",
    "print(\"Number of datapoints:\", len(data))\n",
    "data.head()"
   ]
  },
  {
   "cell_type": "code",
   "execution_count": 4,
   "id": "ce8667e8",
   "metadata": {
    "execution": {
     "iopub.execute_input": "2021-10-08T04:14:41.061822Z",
     "iopub.status.busy": "2021-10-08T04:14:41.055775Z",
     "iopub.status.idle": "2021-10-08T04:14:41.076529Z",
     "shell.execute_reply": "2021-10-08T04:14:41.075783Z",
     "shell.execute_reply.started": "2021-10-08T04:12:15.173448Z"
    },
    "papermill": {
     "duration": 0.058629,
     "end_time": "2021-10-08T04:14:41.076744",
     "exception": false,
     "start_time": "2021-10-08T04:14:41.018115",
     "status": "completed"
    },
    "tags": []
   },
   "outputs": [
    {
     "name": "stdout",
     "output_type": "stream",
     "text": [
      "<class 'pandas.core.frame.DataFrame'>\n",
      "RangeIndex: 2240 entries, 0 to 2239\n",
      "Data columns (total 29 columns):\n",
      " #   Column               Non-Null Count  Dtype  \n",
      "---  ------               --------------  -----  \n",
      " 0   ID                   2240 non-null   int64  \n",
      " 1   Year_Birth           2240 non-null   int64  \n",
      " 2   Education            2240 non-null   object \n",
      " 3   Marital_Status       2240 non-null   object \n",
      " 4   Income               2216 non-null   float64\n",
      " 5   Kidhome              2240 non-null   int64  \n",
      " 6   Teenhome             2240 non-null   int64  \n",
      " 7   Dt_Customer          2240 non-null   object \n",
      " 8   Recency              2240 non-null   int64  \n",
      " 9   MntWines             2240 non-null   int64  \n",
      " 10  MntFruits            2240 non-null   int64  \n",
      " 11  MntMeatProducts      2240 non-null   int64  \n",
      " 12  MntFishProducts      2240 non-null   int64  \n",
      " 13  MntSweetProducts     2240 non-null   int64  \n",
      " 14  MntGoldProds         2240 non-null   int64  \n",
      " 15  NumDealsPurchases    2240 non-null   int64  \n",
      " 16  NumWebPurchases      2240 non-null   int64  \n",
      " 17  NumCatalogPurchases  2240 non-null   int64  \n",
      " 18  NumStorePurchases    2240 non-null   int64  \n",
      " 19  NumWebVisitsMonth    2240 non-null   int64  \n",
      " 20  AcceptedCmp3         2240 non-null   int64  \n",
      " 21  AcceptedCmp4         2240 non-null   int64  \n",
      " 22  AcceptedCmp5         2240 non-null   int64  \n",
      " 23  AcceptedCmp1         2240 non-null   int64  \n",
      " 24  AcceptedCmp2         2240 non-null   int64  \n",
      " 25  Complain             2240 non-null   int64  \n",
      " 26  Z_CostContact        2240 non-null   int64  \n",
      " 27  Z_Revenue            2240 non-null   int64  \n",
      " 28  Response             2240 non-null   int64  \n",
      "dtypes: float64(1), int64(25), object(3)\n",
      "memory usage: 507.6+ KB\n"
     ]
    }
   ],
   "source": [
    "#Information on features \n",
    "data.info()"
   ]
  },
  {
   "cell_type": "code",
   "execution_count": 5,
   "id": "b6003c58",
   "metadata": {
    "execution": {
     "iopub.execute_input": "2021-10-08T04:14:41.203332Z",
     "iopub.status.busy": "2021-10-08T04:14:41.202517Z",
     "iopub.status.idle": "2021-10-08T04:14:41.207231Z",
     "shell.execute_reply": "2021-10-08T04:14:41.206495Z",
     "shell.execute_reply.started": "2021-10-08T04:12:15.199835Z"
    },
    "papermill": {
     "duration": 0.042312,
     "end_time": "2021-10-08T04:14:41.207425",
     "exception": false,
     "start_time": "2021-10-08T04:14:41.165113",
     "status": "completed"
    },
    "tags": []
   },
   "outputs": [
    {
     "name": "stdout",
     "output_type": "stream",
     "text": [
      "The total number of data-points after removing the rows with missing values are: 2216\n"
     ]
    }
   ],
   "source": [
    "#To remove the NA values\n",
    "data = data.dropna()\n",
    "print(\"The total number of data-points after removing the rows with missing values are:\", len(data))"
   ]
  },
  {
   "cell_type": "code",
   "execution_count": 6,
   "id": "29e0a06d",
   "metadata": {
    "execution": {
     "iopub.execute_input": "2021-10-08T04:14:41.334783Z",
     "iopub.status.busy": "2021-10-08T04:14:41.334173Z",
     "iopub.status.idle": "2021-10-08T04:14:41.341585Z",
     "shell.execute_reply": "2021-10-08T04:14:41.341118Z",
     "shell.execute_reply.started": "2021-10-08T04:12:15.211459Z"
    },
    "papermill": {
     "duration": 0.046416,
     "end_time": "2021-10-08T04:14:41.341737",
     "exception": false,
     "start_time": "2021-10-08T04:14:41.295321",
     "status": "completed"
    },
    "tags": []
   },
   "outputs": [
    {
     "name": "stdout",
     "output_type": "stream",
     "text": [
      "The newest customer's enrolment date in therecords: 2014-12-06\n",
      "The oldest customer's enrolment date in the records: 2012-01-08\n"
     ]
    }
   ],
   "source": [
    "data[\"Dt_Customer\"] = pd.to_datetime(data[\"Dt_Customer\"])\n",
    "dates = []\n",
    "for i in data[\"Dt_Customer\"]:\n",
    "    i = i.date()\n",
    "    dates.append(i)  \n",
    "#Dates of the newest and oldest recorded customer\n",
    "print(\"The newest customer's enrolment date in therecords:\",max(dates))\n",
    "print(\"The oldest customer's enrolment date in the records:\",min(dates))\n"
   ]
  },
  {
   "cell_type": "code",
   "execution_count": 7,
   "id": "23e9342f",
   "metadata": {
    "execution": {
     "iopub.execute_input": "2021-10-08T04:14:41.480254Z",
     "iopub.status.busy": "2021-10-08T04:14:41.479279Z",
     "iopub.status.idle": "2021-10-08T04:14:41.481715Z",
     "shell.execute_reply": "2021-10-08T04:14:41.482326Z",
     "shell.execute_reply.started": "2021-10-08T04:12:15.230607Z"
    },
    "papermill": {
     "duration": 0.051941,
     "end_time": "2021-10-08T04:14:41.482563",
     "exception": false,
     "start_time": "2021-10-08T04:14:41.430622",
     "status": "completed"
    },
    "tags": []
   },
   "outputs": [],
   "source": [
    "#Created a feature \"Customer_For\"\n",
    "days = []\n",
    "d1 = max(dates) #taking it to be the newest customer\n",
    "for i in dates:\n",
    "    delta = d1 - i\n",
    "    days.append(delta)\n",
    "data[\"Customer_For\"] = days\n",
    "data[\"Customer_For\"] = pd.to_numeric(data[\"Customer_For\"], errors=\"coerce\")"
   ]
  },
  {
   "cell_type": "code",
   "execution_count": 8,
   "id": "a4b44962",
   "metadata": {
    "execution": {
     "iopub.execute_input": "2021-10-08T04:14:41.636485Z",
     "iopub.status.busy": "2021-10-08T04:14:41.635493Z",
     "iopub.status.idle": "2021-10-08T04:14:41.639975Z",
     "shell.execute_reply": "2021-10-08T04:14:41.639496Z",
     "shell.execute_reply.started": "2021-10-08T04:12:15.251514Z"
    },
    "papermill": {
     "duration": 0.043279,
     "end_time": "2021-10-08T04:14:41.640142",
     "exception": false,
     "start_time": "2021-10-08T04:14:41.596863",
     "status": "completed"
    },
    "tags": []
   },
   "outputs": [
    {
     "name": "stdout",
     "output_type": "stream",
     "text": [
      "Total categories in the feature Marital_Status:\n",
      " Married     857\n",
      "Together    573\n",
      "Single      471\n",
      "Divorced    232\n",
      "Widow        76\n",
      "Alone         3\n",
      "Absurd        2\n",
      "YOLO          2\n",
      "Name: Marital_Status, dtype: int64 \n",
      "\n",
      "Total categories in the feature Education:\n",
      " Graduation    1116\n",
      "PhD            481\n",
      "Master         365\n",
      "2n Cycle       200\n",
      "Basic           54\n",
      "Name: Education, dtype: int64\n"
     ]
    }
   ],
   "source": [
    "print(\"Total categories in the feature Marital_Status:\\n\", data[\"Marital_Status\"].value_counts(), \"\\n\")\n",
    "print(\"Total categories in the feature Education:\\n\", data[\"Education\"].value_counts())"
   ]
  },
  {
   "cell_type": "code",
   "execution_count": 5,
   "id": "39c3ecc3",
   "metadata": {
    "execution": {
     "iopub.execute_input": "2021-10-08T04:14:41.763000Z",
     "iopub.status.busy": "2021-10-08T04:14:41.762048Z",
     "iopub.status.idle": "2021-10-08T04:14:41.784285Z",
     "shell.execute_reply": "2021-10-08T04:14:41.784752Z",
     "shell.execute_reply.started": "2021-10-08T04:12:15.268640Z"
    },
    "papermill": {
     "duration": 0.055238,
     "end_time": "2021-10-08T04:14:41.784923",
     "exception": false,
     "start_time": "2021-10-08T04:14:41.729685",
     "status": "completed"
    },
    "tags": []
   },
   "outputs": [],
   "source": [
    "#Feature Engineering\n",
    "#Age of customer today \n",
    "data[\"Age\"] = 2021-data[\"Year_Birth\"]\n",
    "\n",
    "#Total spendings on various items\n",
    "data[\"Spent\"] = data[\"MntWines\"]+ data[\"MntFruits\"]+ data[\"MntMeatProducts\"]+ data[\"MntFishProducts\"]+ data[\"MntSweetProducts\"]+ data[\"MntGoldProds\"]\n",
    "\n",
    "#Deriving living situation by marital status\"Alone\"\n",
    "data[\"Living_With\"]=data[\"Marital_Status\"].replace({\"Married\":\"Partner\", \"Together\":\"Partner\", \"Absurd\":\"Alone\", \"Widow\":\"Alone\", \"YOLO\":\"Alone\", \"Divorced\":\"Alone\", \"Single\":\"Alone\",})\n",
    "\n",
    "#Feature indicating total children living in the household\n",
    "data[\"Children\"]=data[\"Kidhome\"]+data[\"Teenhome\"]\n",
    "\n",
    "#Feature for total members in the householde\n",
    "data[\"Family_Size\"] = data[\"Living_With\"].replace({\"Alone\": 1, \"Partner\":2})+ data[\"Children\"]\n",
    "\n",
    "#Feature pertaining parenthood\n",
    "data[\"Is_Parent\"] = np.where(data.Children> 0, 1, 0)\n",
    "\n",
    "#Segmenting education levels in three groups\n",
    "data[\"Education\"]=data[\"Education\"].replace({\"Basic\":\"Undergraduate\",\"2n Cycle\":\"Undergraduate\", \"Graduation\":\"Graduate\", \"Master\":\"Postgraduate\", \"PhD\":\"Postgraduate\"})\n",
    "\n",
    "#For clarity\n",
    "data=data.rename(columns={\"MntWines\": \"Wines\",\"MntFruits\":\"Fruits\",\"MntMeatProducts\":\"Meat\",\"MntFishProducts\":\"Fish\",\"MntSweetProducts\":\"Sweets\",\"MntGoldProds\":\"Gold\"})\n",
    "\n",
    "#Dropping some of the redundant features\n",
    "to_drop = [\"Marital_Status\", \"Dt_Customer\", \"Z_CostContact\", \"Z_Revenue\", \"Year_Birth\", \"ID\"]\n",
    "data = data.drop(to_drop, axis=1)"
   ]
  },
  {
   "cell_type": "code",
   "execution_count": 6,
   "id": "89cc5d6b",
   "metadata": {
    "execution": {
     "iopub.execute_input": "2021-10-08T04:14:41.911150Z",
     "iopub.status.busy": "2021-10-08T04:14:41.910560Z",
     "iopub.status.idle": "2021-10-08T04:14:41.983207Z",
     "shell.execute_reply": "2021-10-08T04:14:41.982716Z",
     "shell.execute_reply.started": "2021-10-08T04:12:15.401193Z"
    },
    "papermill": {
     "duration": 0.109706,
     "end_time": "2021-10-08T04:14:41.983356",
     "exception": false,
     "start_time": "2021-10-08T04:14:41.873650",
     "status": "completed"
    },
    "tags": []
   },
   "outputs": [
    {
     "data": {
      "text/html": [
       "<div>\n",
       "<style scoped>\n",
       "    .dataframe tbody tr th:only-of-type {\n",
       "        vertical-align: middle;\n",
       "    }\n",
       "\n",
       "    .dataframe tbody tr th {\n",
       "        vertical-align: top;\n",
       "    }\n",
       "\n",
       "    .dataframe thead th {\n",
       "        text-align: right;\n",
       "    }\n",
       "</style>\n",
       "<table border=\"1\" class=\"dataframe\">\n",
       "  <thead>\n",
       "    <tr style=\"text-align: right;\">\n",
       "      <th></th>\n",
       "      <th>Income</th>\n",
       "      <th>Kidhome</th>\n",
       "      <th>Teenhome</th>\n",
       "      <th>Recency</th>\n",
       "      <th>Wines</th>\n",
       "      <th>Fruits</th>\n",
       "      <th>Meat</th>\n",
       "      <th>Fish</th>\n",
       "      <th>Sweets</th>\n",
       "      <th>Gold</th>\n",
       "      <th>...</th>\n",
       "      <th>AcceptedCmp5</th>\n",
       "      <th>AcceptedCmp1</th>\n",
       "      <th>AcceptedCmp2</th>\n",
       "      <th>Complain</th>\n",
       "      <th>Response</th>\n",
       "      <th>Age</th>\n",
       "      <th>Spent</th>\n",
       "      <th>Children</th>\n",
       "      <th>Family_Size</th>\n",
       "      <th>Is_Parent</th>\n",
       "    </tr>\n",
       "  </thead>\n",
       "  <tbody>\n",
       "    <tr>\n",
       "      <th>count</th>\n",
       "      <td>2216.000000</td>\n",
       "      <td>2240.000000</td>\n",
       "      <td>2240.000000</td>\n",
       "      <td>2240.000000</td>\n",
       "      <td>2240.000000</td>\n",
       "      <td>2240.000000</td>\n",
       "      <td>2240.000000</td>\n",
       "      <td>2240.000000</td>\n",
       "      <td>2240.000000</td>\n",
       "      <td>2240.000000</td>\n",
       "      <td>...</td>\n",
       "      <td>2240.000000</td>\n",
       "      <td>2240.000000</td>\n",
       "      <td>2240.000000</td>\n",
       "      <td>2240.000000</td>\n",
       "      <td>2240.000000</td>\n",
       "      <td>2240.000000</td>\n",
       "      <td>2240.000000</td>\n",
       "      <td>2240.000000</td>\n",
       "      <td>2240.000000</td>\n",
       "      <td>2240.000000</td>\n",
       "    </tr>\n",
       "    <tr>\n",
       "      <th>mean</th>\n",
       "      <td>52247.251354</td>\n",
       "      <td>0.444196</td>\n",
       "      <td>0.506250</td>\n",
       "      <td>49.109375</td>\n",
       "      <td>303.935714</td>\n",
       "      <td>26.302232</td>\n",
       "      <td>166.950000</td>\n",
       "      <td>37.525446</td>\n",
       "      <td>27.062946</td>\n",
       "      <td>44.021875</td>\n",
       "      <td>...</td>\n",
       "      <td>0.072768</td>\n",
       "      <td>0.064286</td>\n",
       "      <td>0.013393</td>\n",
       "      <td>0.009375</td>\n",
       "      <td>0.149107</td>\n",
       "      <td>52.194196</td>\n",
       "      <td>605.798214</td>\n",
       "      <td>0.950446</td>\n",
       "      <td>2.595089</td>\n",
       "      <td>0.715179</td>\n",
       "    </tr>\n",
       "    <tr>\n",
       "      <th>std</th>\n",
       "      <td>25173.076661</td>\n",
       "      <td>0.538398</td>\n",
       "      <td>0.544538</td>\n",
       "      <td>28.962453</td>\n",
       "      <td>336.597393</td>\n",
       "      <td>39.773434</td>\n",
       "      <td>225.715373</td>\n",
       "      <td>54.628979</td>\n",
       "      <td>41.280498</td>\n",
       "      <td>52.167439</td>\n",
       "      <td>...</td>\n",
       "      <td>0.259813</td>\n",
       "      <td>0.245316</td>\n",
       "      <td>0.114976</td>\n",
       "      <td>0.096391</td>\n",
       "      <td>0.356274</td>\n",
       "      <td>11.984069</td>\n",
       "      <td>602.249288</td>\n",
       "      <td>0.751803</td>\n",
       "      <td>0.906959</td>\n",
       "      <td>0.451430</td>\n",
       "    </tr>\n",
       "    <tr>\n",
       "      <th>min</th>\n",
       "      <td>1730.000000</td>\n",
       "      <td>0.000000</td>\n",
       "      <td>0.000000</td>\n",
       "      <td>0.000000</td>\n",
       "      <td>0.000000</td>\n",
       "      <td>0.000000</td>\n",
       "      <td>0.000000</td>\n",
       "      <td>0.000000</td>\n",
       "      <td>0.000000</td>\n",
       "      <td>0.000000</td>\n",
       "      <td>...</td>\n",
       "      <td>0.000000</td>\n",
       "      <td>0.000000</td>\n",
       "      <td>0.000000</td>\n",
       "      <td>0.000000</td>\n",
       "      <td>0.000000</td>\n",
       "      <td>25.000000</td>\n",
       "      <td>5.000000</td>\n",
       "      <td>0.000000</td>\n",
       "      <td>1.000000</td>\n",
       "      <td>0.000000</td>\n",
       "    </tr>\n",
       "    <tr>\n",
       "      <th>25%</th>\n",
       "      <td>35303.000000</td>\n",
       "      <td>0.000000</td>\n",
       "      <td>0.000000</td>\n",
       "      <td>24.000000</td>\n",
       "      <td>23.750000</td>\n",
       "      <td>1.000000</td>\n",
       "      <td>16.000000</td>\n",
       "      <td>3.000000</td>\n",
       "      <td>1.000000</td>\n",
       "      <td>9.000000</td>\n",
       "      <td>...</td>\n",
       "      <td>0.000000</td>\n",
       "      <td>0.000000</td>\n",
       "      <td>0.000000</td>\n",
       "      <td>0.000000</td>\n",
       "      <td>0.000000</td>\n",
       "      <td>44.000000</td>\n",
       "      <td>68.750000</td>\n",
       "      <td>0.000000</td>\n",
       "      <td>2.000000</td>\n",
       "      <td>0.000000</td>\n",
       "    </tr>\n",
       "    <tr>\n",
       "      <th>50%</th>\n",
       "      <td>51381.500000</td>\n",
       "      <td>0.000000</td>\n",
       "      <td>0.000000</td>\n",
       "      <td>49.000000</td>\n",
       "      <td>173.500000</td>\n",
       "      <td>8.000000</td>\n",
       "      <td>67.000000</td>\n",
       "      <td>12.000000</td>\n",
       "      <td>8.000000</td>\n",
       "      <td>24.000000</td>\n",
       "      <td>...</td>\n",
       "      <td>0.000000</td>\n",
       "      <td>0.000000</td>\n",
       "      <td>0.000000</td>\n",
       "      <td>0.000000</td>\n",
       "      <td>0.000000</td>\n",
       "      <td>51.000000</td>\n",
       "      <td>396.000000</td>\n",
       "      <td>1.000000</td>\n",
       "      <td>3.000000</td>\n",
       "      <td>1.000000</td>\n",
       "    </tr>\n",
       "    <tr>\n",
       "      <th>75%</th>\n",
       "      <td>68522.000000</td>\n",
       "      <td>1.000000</td>\n",
       "      <td>1.000000</td>\n",
       "      <td>74.000000</td>\n",
       "      <td>504.250000</td>\n",
       "      <td>33.000000</td>\n",
       "      <td>232.000000</td>\n",
       "      <td>50.000000</td>\n",
       "      <td>33.000000</td>\n",
       "      <td>56.000000</td>\n",
       "      <td>...</td>\n",
       "      <td>0.000000</td>\n",
       "      <td>0.000000</td>\n",
       "      <td>0.000000</td>\n",
       "      <td>0.000000</td>\n",
       "      <td>0.000000</td>\n",
       "      <td>62.000000</td>\n",
       "      <td>1045.500000</td>\n",
       "      <td>1.000000</td>\n",
       "      <td>3.000000</td>\n",
       "      <td>1.000000</td>\n",
       "    </tr>\n",
       "    <tr>\n",
       "      <th>max</th>\n",
       "      <td>666666.000000</td>\n",
       "      <td>2.000000</td>\n",
       "      <td>2.000000</td>\n",
       "      <td>99.000000</td>\n",
       "      <td>1493.000000</td>\n",
       "      <td>199.000000</td>\n",
       "      <td>1725.000000</td>\n",
       "      <td>259.000000</td>\n",
       "      <td>263.000000</td>\n",
       "      <td>362.000000</td>\n",
       "      <td>...</td>\n",
       "      <td>1.000000</td>\n",
       "      <td>1.000000</td>\n",
       "      <td>1.000000</td>\n",
       "      <td>1.000000</td>\n",
       "      <td>1.000000</td>\n",
       "      <td>128.000000</td>\n",
       "      <td>2525.000000</td>\n",
       "      <td>3.000000</td>\n",
       "      <td>5.000000</td>\n",
       "      <td>1.000000</td>\n",
       "    </tr>\n",
       "  </tbody>\n",
       "</table>\n",
       "<p>8 rows × 27 columns</p>\n",
       "</div>"
      ],
      "text/plain": [
       "              Income      Kidhome     Teenhome      Recency        Wines  \\\n",
       "count    2216.000000  2240.000000  2240.000000  2240.000000  2240.000000   \n",
       "mean    52247.251354     0.444196     0.506250    49.109375   303.935714   \n",
       "std     25173.076661     0.538398     0.544538    28.962453   336.597393   \n",
       "min      1730.000000     0.000000     0.000000     0.000000     0.000000   \n",
       "25%     35303.000000     0.000000     0.000000    24.000000    23.750000   \n",
       "50%     51381.500000     0.000000     0.000000    49.000000   173.500000   \n",
       "75%     68522.000000     1.000000     1.000000    74.000000   504.250000   \n",
       "max    666666.000000     2.000000     2.000000    99.000000  1493.000000   \n",
       "\n",
       "            Fruits         Meat         Fish       Sweets         Gold  ...  \\\n",
       "count  2240.000000  2240.000000  2240.000000  2240.000000  2240.000000  ...   \n",
       "mean     26.302232   166.950000    37.525446    27.062946    44.021875  ...   \n",
       "std      39.773434   225.715373    54.628979    41.280498    52.167439  ...   \n",
       "min       0.000000     0.000000     0.000000     0.000000     0.000000  ...   \n",
       "25%       1.000000    16.000000     3.000000     1.000000     9.000000  ...   \n",
       "50%       8.000000    67.000000    12.000000     8.000000    24.000000  ...   \n",
       "75%      33.000000   232.000000    50.000000    33.000000    56.000000  ...   \n",
       "max     199.000000  1725.000000   259.000000   263.000000   362.000000  ...   \n",
       "\n",
       "       AcceptedCmp5  AcceptedCmp1  AcceptedCmp2     Complain     Response  \\\n",
       "count   2240.000000   2240.000000   2240.000000  2240.000000  2240.000000   \n",
       "mean       0.072768      0.064286      0.013393     0.009375     0.149107   \n",
       "std        0.259813      0.245316      0.114976     0.096391     0.356274   \n",
       "min        0.000000      0.000000      0.000000     0.000000     0.000000   \n",
       "25%        0.000000      0.000000      0.000000     0.000000     0.000000   \n",
       "50%        0.000000      0.000000      0.000000     0.000000     0.000000   \n",
       "75%        0.000000      0.000000      0.000000     0.000000     0.000000   \n",
       "max        1.000000      1.000000      1.000000     1.000000     1.000000   \n",
       "\n",
       "               Age        Spent     Children  Family_Size    Is_Parent  \n",
       "count  2240.000000  2240.000000  2240.000000  2240.000000  2240.000000  \n",
       "mean     52.194196   605.798214     0.950446     2.595089     0.715179  \n",
       "std      11.984069   602.249288     0.751803     0.906959     0.451430  \n",
       "min      25.000000     5.000000     0.000000     1.000000     0.000000  \n",
       "25%      44.000000    68.750000     0.000000     2.000000     0.000000  \n",
       "50%      51.000000   396.000000     1.000000     3.000000     1.000000  \n",
       "75%      62.000000  1045.500000     1.000000     3.000000     1.000000  \n",
       "max     128.000000  2525.000000     3.000000     5.000000     1.000000  \n",
       "\n",
       "[8 rows x 27 columns]"
      ]
     },
     "execution_count": 6,
     "metadata": {},
     "output_type": "execute_result"
    }
   ],
   "source": [
    "data.describe()"
   ]
  },
  {
   "cell_type": "code",
   "execution_count": 8,
   "id": "57be2ade",
   "metadata": {
    "execution": {
     "iopub.execute_input": "2021-10-08T04:14:51.244803Z",
     "iopub.status.busy": "2021-10-08T04:14:51.244208Z",
     "iopub.status.idle": "2021-10-08T04:14:51.251678Z",
     "shell.execute_reply": "2021-10-08T04:14:51.252401Z",
     "shell.execute_reply.started": "2021-10-08T04:12:24.093947Z"
    },
    "papermill": {
     "duration": 0.05833,
     "end_time": "2021-10-08T04:14:51.252647",
     "exception": false,
     "start_time": "2021-10-08T04:14:51.194317",
     "status": "completed"
    },
    "tags": []
   },
   "outputs": [
    {
     "name": "stdout",
     "output_type": "stream",
     "text": [
      "The total number of data-points after removing the outliers are: 2212\n"
     ]
    }
   ],
   "source": [
    "#Dropping the outliers by setting a cap on Age and income. \n",
    "data = data[(data[\"Age\"]<90)]\n",
    "data = data[(data[\"Income\"]<600000)]\n",
    "print(\"The total number of data-points after removing the outliers are:\", len(data))"
   ]
  },
  {
   "cell_type": "code",
   "execution_count": 9,
   "id": "8c2b2759",
   "metadata": {
    "execution": {
     "iopub.execute_input": "2021-10-08T04:14:56.143780Z",
     "iopub.status.busy": "2021-10-08T04:14:56.143069Z",
     "iopub.status.idle": "2021-10-08T04:14:56.148332Z",
     "shell.execute_reply": "2021-10-08T04:14:56.147769Z",
     "shell.execute_reply.started": "2021-10-08T04:12:28.363650Z"
    },
    "papermill": {
     "duration": 0.085186,
     "end_time": "2021-10-08T04:14:56.148485",
     "exception": false,
     "start_time": "2021-10-08T04:14:56.063299",
     "status": "completed"
    },
    "tags": []
   },
   "outputs": [
    {
     "name": "stdout",
     "output_type": "stream",
     "text": [
      "Categorical variables in the dataset: ['Education', 'Living_With']\n"
     ]
    }
   ],
   "source": [
    "#Get list of categorical variables\n",
    "s = (data.dtypes == 'object')\n",
    "object_cols = list(s[s].index)\n",
    "\n",
    "print(\"Categorical variables in the dataset:\", object_cols)"
   ]
  },
  {
   "cell_type": "code",
   "execution_count": 10,
   "id": "115aaeb4",
   "metadata": {
    "execution": {
     "iopub.execute_input": "2021-10-08T04:14:56.284601Z",
     "iopub.status.busy": "2021-10-08T04:14:56.283653Z",
     "iopub.status.idle": "2021-10-08T04:14:56.295535Z",
     "shell.execute_reply": "2021-10-08T04:14:56.295995Z",
     "shell.execute_reply.started": "2021-10-08T04:12:28.371665Z"
    },
    "papermill": {
     "duration": 0.078164,
     "end_time": "2021-10-08T04:14:56.296208",
     "exception": false,
     "start_time": "2021-10-08T04:14:56.218044",
     "status": "completed"
    },
    "tags": []
   },
   "outputs": [
    {
     "name": "stdout",
     "output_type": "stream",
     "text": [
      "All features are now numerical\n"
     ]
    }
   ],
   "source": [
    "#Label Encoding the object dtypes.\n",
    "LE=LabelEncoder()\n",
    "for i in object_cols:\n",
    "    data[i]=data[[i]].apply(LE.fit_transform)\n",
    "    \n",
    "print(\"All features are now numerical\")"
   ]
  },
  {
   "cell_type": "code",
   "execution_count": 11,
   "id": "3d2a7deb",
   "metadata": {
    "execution": {
     "iopub.execute_input": "2021-10-08T04:14:56.418843Z",
     "iopub.status.busy": "2021-10-08T04:14:56.417813Z",
     "iopub.status.idle": "2021-10-08T04:14:56.429945Z",
     "shell.execute_reply": "2021-10-08T04:14:56.429482Z",
     "shell.execute_reply.started": "2021-10-08T04:12:28.392454Z"
    },
    "papermill": {
     "duration": 0.075769,
     "end_time": "2021-10-08T04:14:56.430085",
     "exception": false,
     "start_time": "2021-10-08T04:14:56.354316",
     "status": "completed"
    },
    "tags": []
   },
   "outputs": [
    {
     "name": "stdout",
     "output_type": "stream",
     "text": [
      "All features are now scaled\n"
     ]
    }
   ],
   "source": [
    "#Creating a copy of data\n",
    "ds = data.copy()\n",
    "# creating a subset of dataframe by dropping the features on deals accepted and promotions\n",
    "cols_del = ['AcceptedCmp3', 'AcceptedCmp4', 'AcceptedCmp5', 'AcceptedCmp1','AcceptedCmp2', 'Complain', 'Response']\n",
    "ds = ds.drop(cols_del, axis=1)\n",
    "#Scaling\n",
    "scaler = StandardScaler()\n",
    "scaler.fit(ds)\n",
    "scaled_ds = pd.DataFrame(scaler.transform(ds),columns= ds.columns )\n",
    "print(\"All features are now scaled\")"
   ]
  },
  {
   "cell_type": "code",
   "execution_count": 12,
   "id": "2f951bfa",
   "metadata": {
    "execution": {
     "iopub.execute_input": "2021-10-08T04:14:56.559863Z",
     "iopub.status.busy": "2021-10-08T04:14:56.557570Z",
     "iopub.status.idle": "2021-10-08T04:14:56.574476Z",
     "shell.execute_reply": "2021-10-08T04:14:56.574908Z",
     "shell.execute_reply.started": "2021-10-08T04:12:28.409942Z"
    },
    "papermill": {
     "duration": 0.087305,
     "end_time": "2021-10-08T04:14:56.575069",
     "exception": false,
     "start_time": "2021-10-08T04:14:56.487764",
     "status": "completed"
    },
    "tags": []
   },
   "outputs": [
    {
     "name": "stdout",
     "output_type": "stream",
     "text": [
      "Dataframe to be used for further modelling:\n"
     ]
    },
    {
     "data": {
      "text/html": [
       "<div>\n",
       "<style scoped>\n",
       "    .dataframe tbody tr th:only-of-type {\n",
       "        vertical-align: middle;\n",
       "    }\n",
       "\n",
       "    .dataframe tbody tr th {\n",
       "        vertical-align: top;\n",
       "    }\n",
       "\n",
       "    .dataframe thead th {\n",
       "        text-align: right;\n",
       "    }\n",
       "</style>\n",
       "<table border=\"1\" class=\"dataframe\">\n",
       "  <thead>\n",
       "    <tr style=\"text-align: right;\">\n",
       "      <th></th>\n",
       "      <th>Education</th>\n",
       "      <th>Income</th>\n",
       "      <th>Kidhome</th>\n",
       "      <th>Teenhome</th>\n",
       "      <th>Recency</th>\n",
       "      <th>Wines</th>\n",
       "      <th>Fruits</th>\n",
       "      <th>Meat</th>\n",
       "      <th>Fish</th>\n",
       "      <th>Sweets</th>\n",
       "      <th>...</th>\n",
       "      <th>NumWebPurchases</th>\n",
       "      <th>NumCatalogPurchases</th>\n",
       "      <th>NumStorePurchases</th>\n",
       "      <th>NumWebVisitsMonth</th>\n",
       "      <th>Age</th>\n",
       "      <th>Spent</th>\n",
       "      <th>Living_With</th>\n",
       "      <th>Children</th>\n",
       "      <th>Family_Size</th>\n",
       "      <th>Is_Parent</th>\n",
       "    </tr>\n",
       "  </thead>\n",
       "  <tbody>\n",
       "    <tr>\n",
       "      <th>0</th>\n",
       "      <td>-0.893586</td>\n",
       "      <td>0.287105</td>\n",
       "      <td>-0.822754</td>\n",
       "      <td>-0.929699</td>\n",
       "      <td>0.310353</td>\n",
       "      <td>0.977660</td>\n",
       "      <td>1.552041</td>\n",
       "      <td>1.690293</td>\n",
       "      <td>2.453472</td>\n",
       "      <td>1.483713</td>\n",
       "      <td>...</td>\n",
       "      <td>1.426865</td>\n",
       "      <td>2.503607</td>\n",
       "      <td>-0.555814</td>\n",
       "      <td>0.692181</td>\n",
       "      <td>1.018352</td>\n",
       "      <td>1.676245</td>\n",
       "      <td>-1.349603</td>\n",
       "      <td>-1.264598</td>\n",
       "      <td>-1.758359</td>\n",
       "      <td>-1.581139</td>\n",
       "    </tr>\n",
       "    <tr>\n",
       "      <th>1</th>\n",
       "      <td>-0.893586</td>\n",
       "      <td>-0.260882</td>\n",
       "      <td>1.040021</td>\n",
       "      <td>0.908097</td>\n",
       "      <td>-0.380813</td>\n",
       "      <td>-0.872618</td>\n",
       "      <td>-0.637461</td>\n",
       "      <td>-0.718230</td>\n",
       "      <td>-0.651004</td>\n",
       "      <td>-0.634019</td>\n",
       "      <td>...</td>\n",
       "      <td>-1.126420</td>\n",
       "      <td>-0.571340</td>\n",
       "      <td>-1.171160</td>\n",
       "      <td>-0.132545</td>\n",
       "      <td>1.274785</td>\n",
       "      <td>-0.963297</td>\n",
       "      <td>-1.349603</td>\n",
       "      <td>1.404572</td>\n",
       "      <td>0.449070</td>\n",
       "      <td>0.632456</td>\n",
       "    </tr>\n",
       "    <tr>\n",
       "      <th>2</th>\n",
       "      <td>-0.893586</td>\n",
       "      <td>0.913196</td>\n",
       "      <td>-0.822754</td>\n",
       "      <td>-0.929699</td>\n",
       "      <td>-0.795514</td>\n",
       "      <td>0.357935</td>\n",
       "      <td>0.570540</td>\n",
       "      <td>-0.178542</td>\n",
       "      <td>1.339513</td>\n",
       "      <td>-0.147184</td>\n",
       "      <td>...</td>\n",
       "      <td>1.426865</td>\n",
       "      <td>-0.229679</td>\n",
       "      <td>1.290224</td>\n",
       "      <td>-0.544908</td>\n",
       "      <td>0.334530</td>\n",
       "      <td>0.280110</td>\n",
       "      <td>0.740959</td>\n",
       "      <td>-1.264598</td>\n",
       "      <td>-0.654644</td>\n",
       "      <td>-1.581139</td>\n",
       "    </tr>\n",
       "    <tr>\n",
       "      <th>3</th>\n",
       "      <td>-0.893586</td>\n",
       "      <td>-1.176114</td>\n",
       "      <td>1.040021</td>\n",
       "      <td>-0.929699</td>\n",
       "      <td>-0.795514</td>\n",
       "      <td>-0.872618</td>\n",
       "      <td>-0.561961</td>\n",
       "      <td>-0.655787</td>\n",
       "      <td>-0.504911</td>\n",
       "      <td>-0.585335</td>\n",
       "      <td>...</td>\n",
       "      <td>-0.761665</td>\n",
       "      <td>-0.913000</td>\n",
       "      <td>-0.555814</td>\n",
       "      <td>0.279818</td>\n",
       "      <td>-1.289547</td>\n",
       "      <td>-0.920135</td>\n",
       "      <td>0.740959</td>\n",
       "      <td>0.069987</td>\n",
       "      <td>0.449070</td>\n",
       "      <td>0.632456</td>\n",
       "    </tr>\n",
       "    <tr>\n",
       "      <th>4</th>\n",
       "      <td>0.571657</td>\n",
       "      <td>0.294307</td>\n",
       "      <td>1.040021</td>\n",
       "      <td>-0.929699</td>\n",
       "      <td>1.554453</td>\n",
       "      <td>-0.392257</td>\n",
       "      <td>0.419540</td>\n",
       "      <td>-0.218684</td>\n",
       "      <td>0.152508</td>\n",
       "      <td>-0.001133</td>\n",
       "      <td>...</td>\n",
       "      <td>0.332600</td>\n",
       "      <td>0.111982</td>\n",
       "      <td>0.059532</td>\n",
       "      <td>-0.132545</td>\n",
       "      <td>-1.033114</td>\n",
       "      <td>-0.307562</td>\n",
       "      <td>0.740959</td>\n",
       "      <td>0.069987</td>\n",
       "      <td>0.449070</td>\n",
       "      <td>0.632456</td>\n",
       "    </tr>\n",
       "  </tbody>\n",
       "</table>\n",
       "<p>5 rows × 22 columns</p>\n",
       "</div>"
      ],
      "text/plain": [
       "   Education    Income   Kidhome  Teenhome   Recency     Wines    Fruits  \\\n",
       "0  -0.893586  0.287105 -0.822754 -0.929699  0.310353  0.977660  1.552041   \n",
       "1  -0.893586 -0.260882  1.040021  0.908097 -0.380813 -0.872618 -0.637461   \n",
       "2  -0.893586  0.913196 -0.822754 -0.929699 -0.795514  0.357935  0.570540   \n",
       "3  -0.893586 -1.176114  1.040021 -0.929699 -0.795514 -0.872618 -0.561961   \n",
       "4   0.571657  0.294307  1.040021 -0.929699  1.554453 -0.392257  0.419540   \n",
       "\n",
       "       Meat      Fish    Sweets  ...  NumWebPurchases  NumCatalogPurchases  \\\n",
       "0  1.690293  2.453472  1.483713  ...         1.426865             2.503607   \n",
       "1 -0.718230 -0.651004 -0.634019  ...        -1.126420            -0.571340   \n",
       "2 -0.178542  1.339513 -0.147184  ...         1.426865            -0.229679   \n",
       "3 -0.655787 -0.504911 -0.585335  ...        -0.761665            -0.913000   \n",
       "4 -0.218684  0.152508 -0.001133  ...         0.332600             0.111982   \n",
       "\n",
       "   NumStorePurchases  NumWebVisitsMonth       Age     Spent  Living_With  \\\n",
       "0          -0.555814           0.692181  1.018352  1.676245    -1.349603   \n",
       "1          -1.171160          -0.132545  1.274785 -0.963297    -1.349603   \n",
       "2           1.290224          -0.544908  0.334530  0.280110     0.740959   \n",
       "3          -0.555814           0.279818 -1.289547 -0.920135     0.740959   \n",
       "4           0.059532          -0.132545 -1.033114 -0.307562     0.740959   \n",
       "\n",
       "   Children  Family_Size  Is_Parent  \n",
       "0 -1.264598    -1.758359  -1.581139  \n",
       "1  1.404572     0.449070   0.632456  \n",
       "2 -1.264598    -0.654644  -1.581139  \n",
       "3  0.069987     0.449070   0.632456  \n",
       "4  0.069987     0.449070   0.632456  \n",
       "\n",
       "[5 rows x 22 columns]"
      ]
     },
     "execution_count": 12,
     "metadata": {},
     "output_type": "execute_result"
    }
   ],
   "source": [
    "#Scaled data to be used for reducing the dimensionality\n",
    "print(\"Dataframe to be used for further modelling:\")\n",
    "scaled_ds.head()"
   ]
  },
  {
   "cell_type": "code",
   "execution_count": 13,
   "id": "1d9a0b28",
   "metadata": {
    "execution": {
     "iopub.execute_input": "2021-10-08T04:14:56.823997Z",
     "iopub.status.busy": "2021-10-08T04:14:56.816062Z",
     "iopub.status.idle": "2021-10-08T04:14:56.869227Z",
     "shell.execute_reply": "2021-10-08T04:14:56.870468Z",
     "shell.execute_reply.started": "2021-10-08T04:12:28.438263Z"
    },
    "papermill": {
     "duration": 0.118668,
     "end_time": "2021-10-08T04:14:56.870748",
     "exception": false,
     "start_time": "2021-10-08T04:14:56.752080",
     "status": "completed"
    },
    "tags": []
   },
   "outputs": [
    {
     "data": {
      "text/html": [
       "<div>\n",
       "<style scoped>\n",
       "    .dataframe tbody tr th:only-of-type {\n",
       "        vertical-align: middle;\n",
       "    }\n",
       "\n",
       "    .dataframe tbody tr th {\n",
       "        vertical-align: top;\n",
       "    }\n",
       "\n",
       "    .dataframe thead th {\n",
       "        text-align: right;\n",
       "    }\n",
       "</style>\n",
       "<table border=\"1\" class=\"dataframe\">\n",
       "  <thead>\n",
       "    <tr style=\"text-align: right;\">\n",
       "      <th></th>\n",
       "      <th>count</th>\n",
       "      <th>mean</th>\n",
       "      <th>std</th>\n",
       "      <th>min</th>\n",
       "      <th>25%</th>\n",
       "      <th>50%</th>\n",
       "      <th>75%</th>\n",
       "      <th>max</th>\n",
       "    </tr>\n",
       "  </thead>\n",
       "  <tbody>\n",
       "    <tr>\n",
       "      <th>col1</th>\n",
       "      <td>2212.0</td>\n",
       "      <td>-2.120064e-16</td>\n",
       "      <td>2.877338</td>\n",
       "      <td>-5.940876</td>\n",
       "      <td>-2.552996</td>\n",
       "      <td>-0.776146</td>\n",
       "      <td>2.394880</td>\n",
       "      <td>7.411441</td>\n",
       "    </tr>\n",
       "    <tr>\n",
       "      <th>col2</th>\n",
       "      <td>2212.0</td>\n",
       "      <td>5.781993e-17</td>\n",
       "      <td>1.699736</td>\n",
       "      <td>-4.285513</td>\n",
       "      <td>-1.329388</td>\n",
       "      <td>-0.149703</td>\n",
       "      <td>1.244892</td>\n",
       "      <td>6.110731</td>\n",
       "    </tr>\n",
       "    <tr>\n",
       "      <th>col3</th>\n",
       "      <td>2212.0</td>\n",
       "      <td>-6.424437e-18</td>\n",
       "      <td>1.153615</td>\n",
       "      <td>-2.942845</td>\n",
       "      <td>-0.891178</td>\n",
       "      <td>-0.140910</td>\n",
       "      <td>0.812518</td>\n",
       "      <td>3.965044</td>\n",
       "    </tr>\n",
       "  </tbody>\n",
       "</table>\n",
       "</div>"
      ],
      "text/plain": [
       "       count          mean       std       min       25%       50%       75%  \\\n",
       "col1  2212.0 -2.120064e-16  2.877338 -5.940876 -2.552996 -0.776146  2.394880   \n",
       "col2  2212.0  5.781993e-17  1.699736 -4.285513 -1.329388 -0.149703  1.244892   \n",
       "col3  2212.0 -6.424437e-18  1.153615 -2.942845 -0.891178 -0.140910  0.812518   \n",
       "\n",
       "           max  \n",
       "col1  7.411441  \n",
       "col2  6.110731  \n",
       "col3  3.965044  "
      ]
     },
     "execution_count": 13,
     "metadata": {},
     "output_type": "execute_result"
    }
   ],
   "source": [
    "#Initiating PCA to reduce dimentions aka features to 3\n",
    "pca = PCA(n_components=3)\n",
    "pca.fit(scaled_ds)\n",
    "PCA_ds = pd.DataFrame(pca.transform(scaled_ds), columns=([\"col1\",\"col2\", \"col3\"]))\n",
    "PCA_ds.describe().T"
   ]
  },
  {
   "cell_type": "markdown",
   "id": "c1ff1fae",
   "metadata": {
    "execution": {
     "iopub.execute_input": "2021-09-24T12:48:31.555898Z",
     "iopub.status.busy": "2021-09-24T12:48:31.555573Z",
     "iopub.status.idle": "2021-09-24T12:48:31.559969Z",
     "shell.execute_reply": "2021-09-24T12:48:31.559288Z",
     "shell.execute_reply.started": "2021-09-24T12:48:31.55586Z"
    },
    "papermill": {
     "duration": 0.063192,
     "end_time": "2021-10-08T04:14:59.390530",
     "exception": false,
     "start_time": "2021-10-08T04:14:59.327338",
     "status": "completed"
    },
    "tags": []
   },
   "source": [
    "The above cell indicates that four will be an optimal number of clusters for this data. \n",
    "Next, we will be fitting the Agglomerative Clustering Model to get the final clusters. "
   ]
  },
  {
   "cell_type": "code",
   "execution_count": 21,
   "id": "07f5743a",
   "metadata": {
    "execution": {
     "iopub.execute_input": "2021-10-08T04:14:59.527275Z",
     "iopub.status.busy": "2021-10-08T04:14:59.526543Z",
     "iopub.status.idle": "2021-10-08T04:14:59.670409Z",
     "shell.execute_reply": "2021-10-08T04:14:59.669779Z",
     "shell.execute_reply.started": "2021-10-08T04:12:30.673084Z"
    },
    "papermill": {
     "duration": 0.213864,
     "end_time": "2021-10-08T04:14:59.670550",
     "exception": false,
     "start_time": "2021-10-08T04:14:59.456686",
     "status": "completed"
    },
    "tags": []
   },
   "outputs": [],
   "source": [
    "#Initiating the Agglomerative Clustering model \n",
    "AC = AgglomerativeClustering(n_clusters=4)\n",
    "# fit model and predict clusters\n",
    "yhat_AC = AC.fit_predict(PCA_ds)\n",
    "PCA_ds[\"Clusters\"] = yhat_AC\n",
    "#Adding the Clusters feature to the orignal dataframe.\n",
    "data[\"Clusters\"]= yhat_AC"
   ]
  },
  {
   "cell_type": "code",
   "execution_count": 23,
   "id": "6b9189d2",
   "metadata": {
    "execution": {
     "iopub.execute_input": "2021-10-08T04:15:00.515866Z",
     "iopub.status.busy": "2021-10-08T04:15:00.514854Z",
     "iopub.status.idle": "2021-10-08T04:15:00.913031Z",
     "shell.execute_reply": "2021-10-08T04:15:00.912447Z",
     "shell.execute_reply.started": "2021-10-08T04:12:31.157287Z"
    },
    "papermill": {
     "duration": 0.470936,
     "end_time": "2021-10-08T04:15:00.913213",
     "exception": false,
     "start_time": "2021-10-08T04:15:00.442277",
     "status": "completed"
    },
    "tags": []
   },
   "outputs": [
    {
     "data": {
      "image/png": "[encoded data removed]",
      "text/plain": [
       "<Figure size 576x396 with 1 Axes>"
      ]
     },
     "metadata": {},
     "output_type": "display_data"
    }
   ],
   "source": [
    "#Plotting countplot of clusters\n",
    "pal = [\"#682F2F\",\"#B9C0C9\", \"#9F8A78\",\"#F3AB60\"]\n",
    "pl = sns.countplot(x=data[\"Clusters\"], palette= pal)\n",
    "pl.set_title(\"Distribution Of The Clusters\")\n",
    "plt.show()"
   ]
  },
  {
   "cell_type": "markdown",
   "id": "154ce4f8",
   "metadata": {
    "papermill": {
     "duration": 0.067211,
     "end_time": "2021-10-08T04:15:01.051651",
     "exception": false,
     "start_time": "2021-10-08T04:15:00.984440",
     "status": "completed"
    },
    "tags": []
   },
   "source": [
    "\n"
   ]
  },
  {
   "cell_type": "code",
   "execution_count": 24,
   "id": "559ecb13",
   "metadata": {
    "execution": {
     "iopub.execute_input": "2021-10-08T04:15:01.360323Z",
     "iopub.status.busy": "2021-10-08T04:15:01.359683Z",
     "iopub.status.idle": "2021-10-08T04:15:01.793924Z",
     "shell.execute_reply": "2021-10-08T04:15:01.792766Z",
     "shell.execute_reply.started": "2021-10-08T04:12:31.389440Z"
    },
    "papermill": {
     "duration": 0.510132,
     "end_time": "2021-10-08T04:15:01.794103",
     "exception": false,
     "start_time": "2021-10-08T04:15:01.283971",
     "status": "completed"
    },
    "tags": []
   },
   "outputs": [
    {
     "data": {
      "image/png": "[encoded data removed]",
      "text/plain": [
       "<Figure size 576x396 with 1 Axes>"
      ]
     },
     "metadata": {},
     "output_type": "display_data"
    }
   ],
   "source": [
    "pl = sns.scatterplot(data = data,x=data[\"Spent\"], y=data[\"Income\"],hue=data[\"Clusters\"], palette= pal)\n",
    "pl.set_title(\"Cluster's Profile Based On Income And Spending\")\n",
    "plt.legend()\n",
    "plt.show()"
   ]
  },
  {
   "cell_type": "markdown",
   "id": "84e4c291",
   "metadata": {
    "papermill": {
     "duration": 0.07143,
     "end_time": "2021-10-08T04:15:01.938650",
     "exception": false,
     "start_time": "2021-10-08T04:15:01.867220",
     "status": "completed"
    },
    "tags": []
   },
   "source": [
    "**Income vs  spending plot shows the clusters pattern**\n",
    "* group 0: high spending & average income\n",
    "* group 1: high spending & high income\n",
    "* group 2: low spending & low income \n",
    "* group 3: high spending & low income  \n",
    "\n",
    "Next, I will be looking at the detailed distribution of clusters as per the various products in the data. Namely: Wines, Fruits, Meat, Fish, Sweets and Gold"
   ]
  },
  {
   "cell_type": "code",
   "execution_count": 25,
   "id": "4903aaf3",
   "metadata": {
    "execution": {
     "iopub.execute_input": "2021-10-08T04:15:02.088310Z",
     "iopub.status.busy": "2021-10-08T04:15:02.087626Z",
     "iopub.status.idle": "2021-10-08T04:15:06.694890Z",
     "shell.execute_reply": "2021-10-08T04:15:06.695350Z",
     "shell.execute_reply.started": "2021-10-08T04:12:31.819670Z"
    },
    "papermill": {
     "duration": 4.684948,
     "end_time": "2021-10-08T04:15:06.695522",
     "exception": false,
     "start_time": "2021-10-08T04:15:02.010574",
     "status": "completed"
    },
    "tags": []
   },
   "outputs": [
    {
     "data": {
      "image/png": "[encoded data removed]",
      "text/plain": [
       "<Figure size 576x396 with 1 Axes>"
      ]
     },
     "metadata": {},
     "output_type": "display_data"
    }
   ],
   "source": [
    "plt.figure()\n",
    "pl=sns.swarmplot(x=data[\"Clusters\"], y=data[\"Spent\"], color= \"#CBEDDD\", alpha=0.5 )\n",
    "pl=sns.boxenplot(x=data[\"Clusters\"], y=data[\"Spent\"], palette=pal)\n",
    "plt.show()"
   ]
  }
 ],
 "metadata": {
  "kernelspec": {
   "display_name": "Python 3 (ipykernel)",
   "language": "python",
   "name": "python3"
  },
  "language_info": {
   "codemirror_mode": {
    "name": "ipython",
    "version": 3
   },
   "file_extension": ".py",
   "mimetype": "text/x-python",
   "name": "python",
   "nbconvert_exporter": "python",
   "pygments_lexer": "ipython3",
   "version": "3.10.9"
  },
  "papermill": {
   "default_parameters": {},
   "duration": 68.93969,
   "end_time": "2021-10-08T04:15:39.992191",
   "environment_variables": {},
   "exception": null,
   "input_path": "__notebook__.ipynb",
   "output_path": "__notebook__.ipynb",
   "parameters": {},
   "start_time": "2021-10-08T04:14:31.052501",
   "version": "2.3.3"
  }
 },
 "nbformat": 4,
 "nbformat_minor": 5
}
